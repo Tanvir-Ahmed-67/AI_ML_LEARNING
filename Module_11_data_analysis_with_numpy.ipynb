{
 "cells": [
  {
   "cell_type": "code",
   "execution_count": 1,
   "id": "d7bbde03-73ff-4d94-874a-4c8fc598c825",
   "metadata": {},
   "outputs": [
    {
     "name": "stdout",
     "output_type": "stream",
     "text": [
      "[[55 67 61 78 48]\n",
      " [49 93 69 56 17]\n",
      " [39 62 17  3 72]\n",
      " [88 83 41 42 25]\n",
      " [54 23 32 90 70]\n",
      " [10 86 35 89 83]\n",
      " [44 97 67 76 40]\n",
      " [ 8 18 64  9 77]\n",
      " [74 59 73 88 53]\n",
      " [78 80  2  3 53]]\n",
      "(10, 5)\n"
     ]
    }
   ],
   "source": [
    "import numpy as np\n",
    "arr = np.random.randint(1,100, size=(10,5)) # sample - 10, feature - 5\n",
    "print(arr)\n",
    "print(arr.shape)"
   ]
  },
  {
   "cell_type": "code",
   "execution_count": 2,
   "id": "83d18f9f-266c-4dea-a974-254af3649d37",
   "metadata": {},
   "outputs": [
    {
     "name": "stdout",
     "output_type": "stream",
     "text": [
      "[[55 67 61 78 48 49 93 69 56 17]\n",
      " [39 62 17  3 72 88 83 41 42 25]\n",
      " [54 23 32 90 70 10 86 35 89 83]\n",
      " [44 97 67 76 40  8 18 64  9 77]\n",
      " [74 59 73 88 53 78 80  2  3 53]]\n",
      "1\n",
      "[55 67 61 78 48 49 93 69 56 17 39 62 17  3 72 88 83 41 42 25 54 23 32 90\n",
      " 70 10 86 35 89 83 44 97 67 76 40  8 18 64  9 77 74 59 73 88 53 78 80  2\n",
      "  3 53]\n",
      "[55 39 54 44 74 67 62 23 97 59 61 17 32 67 73 78  3 90 76 88 48 72 70 40\n",
      " 53 49 88 10  8 78 93 83 86 18 80 69 41 35 64  2 56 42 89  9  3 17 25 83\n",
      " 77 53]\n"
     ]
    }
   ],
   "source": [
    "## Reshaping an array from (10,5) to (5,10)\n",
    "## Using flatten arrays are maked into 1 dimentioned array. It does row wise flattening\n",
    "\n",
    "b = arr.reshape(5,10)\n",
    "print(b)\n",
    "b.ndim\n",
    "flatten = b.flatten()\n",
    "print(flatten.ndim)\n",
    "print(flatten)\n",
    "\n",
    "## Column wise flattening using ravel\n",
    "collumn_wise_flattening = np.ravel(b, order='F')  ## for row wise orderr, order='c'\n",
    "print(collumn_wise_flattening)"
   ]
  },
  {
   "cell_type": "markdown",
   "id": "f2ee0e94-0abe-4345-b31c-edefa57615c6",
   "metadata": {},
   "source": [
    "### Concatanate"
   ]
  },
  {
   "cell_type": "code",
   "execution_count": 16,
   "id": "358e6449-d49a-45b1-af64-ae2a177c6fd1",
   "metadata": {},
   "outputs": [
    {
     "name": "stdout",
     "output_type": "stream",
     "text": [
      "[[1 8 5]\n",
      " [3 1 5]]\n",
      "[[29 20 27]\n",
      " [20 24 21]]\n"
     ]
    }
   ],
   "source": [
    "a = np.random.randint(1,10, size =(2,3))\n",
    "b = np.random.randint(20,30, size =(2,3))\n",
    "print(a)\n",
    "print(b)"
   ]
  },
  {
   "cell_type": "code",
   "execution_count": 18,
   "id": "f30ae6b9-b391-40f3-a038-e23cc7f348bf",
   "metadata": {},
   "outputs": [
    {
     "name": "stdout",
     "output_type": "stream",
     "text": [
      "[[ 1  8  5]\n",
      " [ 3  1  5]\n",
      " [29 20 27]\n",
      " [20 24 21]]\n",
      "[[ 1  8  5 29 20 27]\n",
      " [ 3  1  5 20 24 21]]\n"
     ]
    }
   ],
   "source": [
    "con_row = np.concatenate((a,b), axis=0) # row wise\n",
    "print(con_row)\n",
    "con_col = np.concatenate((a,b), axis=1) # column wise\n",
    "print(con_col)"
   ]
  },
  {
   "cell_type": "code",
   "execution_count": 21,
   "id": "e35f4acc-d906-40fe-88a9-c5cae97565db",
   "metadata": {},
   "outputs": [
    {
     "name": "stdout",
     "output_type": "stream",
     "text": [
      "[[9 3 9]\n",
      " [6 2 5]]\n",
      "[[21 26 27]]\n"
     ]
    },
    {
     "ename": "ValueError",
     "evalue": "all the input array dimensions except for the concatenation axis must match exactly, but along dimension 0, the array at index 0 has size 2 and the array at index 1 has size 1",
     "output_type": "error",
     "traceback": [
      "\u001b[1;31m---------------------------------------------------------------------------\u001b[0m",
      "\u001b[1;31mValueError\u001b[0m                                Traceback (most recent call last)",
      "Cell \u001b[1;32mIn[21], line 7\u001b[0m\n\u001b[0;32m      5\u001b[0m \u001b[38;5;28mprint\u001b[39m(y)\n\u001b[0;32m      6\u001b[0m con_row \u001b[38;5;241m=\u001b[39m np\u001b[38;5;241m.\u001b[39mconcatenate((x,y), axis \u001b[38;5;241m=\u001b[39m \u001b[38;5;241m0\u001b[39m) \u001b[38;5;66;03m## will work, because row dimentioned matched\u001b[39;00m\n\u001b[1;32m----> 7\u001b[0m con_col \u001b[38;5;241m=\u001b[39m np\u001b[38;5;241m.\u001b[39mconcatenate((x,y), axis \u001b[38;5;241m=\u001b[39m \u001b[38;5;241m1\u001b[39m)\n",
      "\u001b[1;31mValueError\u001b[0m: all the input array dimensions except for the concatenation axis must match exactly, but along dimension 0, the array at index 0 has size 2 and the array at index 1 has size 1"
     ]
    }
   ],
   "source": [
    "## Dimension needs to be matched for concatenation\n",
    "x = np.random.randint(1,10, size =(2,3))\n",
    "y = np.random.randint(20,30, size =(1,3))\n",
    "print(x)\n",
    "print(y)\n",
    "con_row = np.concatenate((x,y), axis = 0) ## will work, because row dimentioned matched\n",
    "con_col = np.concatenate((x,y), axis = 1) ## will not work because column dimension missmatched"
   ]
  },
  {
   "cell_type": "markdown",
   "id": "49320981-6142-4f10-8b79-20b15f1aae48",
   "metadata": {},
   "source": [
    "### Transpose Matrix"
   ]
  },
  {
   "cell_type": "code",
   "execution_count": 22,
   "id": "42ecc861-1893-4827-a86e-46efdb8e2fba",
   "metadata": {},
   "outputs": [
    {
     "name": "stdout",
     "output_type": "stream",
     "text": [
      "[[10 40]\n",
      " [20 50]\n",
      " [30 60]]\n"
     ]
    }
   ],
   "source": [
    "mat = np.array([[10,20,30],[40,50,60]])\n",
    "transpose = mat.T\n",
    "print(transpose)"
   ]
  },
  {
   "cell_type": "markdown",
   "id": "6c8922fb-7413-4882-966a-b2e8609fe819",
   "metadata": {},
   "source": [
    "### Array Split"
   ]
  },
  {
   "cell_type": "code",
   "execution_count": 26,
   "id": "2e2171e8-260c-4306-93c4-6221b19040b7",
   "metadata": {},
   "outputs": [
    {
     "name": "stdout",
     "output_type": "stream",
     "text": [
      "[array([8, 5, 6, 6], dtype=int32), array([3, 1, 9], dtype=int32), array([9, 1, 5], dtype=int32)]\n"
     ]
    },
    {
     "ename": "ValueError",
     "evalue": "array split does not result in an equal division",
     "output_type": "error",
     "traceback": [
      "\u001b[1;31m---------------------------------------------------------------------------\u001b[0m",
      "\u001b[1;31mValueError\u001b[0m                                Traceback (most recent call last)",
      "Cell \u001b[1;32mIn[26], line 8\u001b[0m\n\u001b[0;32m      5\u001b[0m \u001b[38;5;28mprint\u001b[39m(splitted_array)\n\u001b[0;32m      7\u001b[0m \u001b[38;5;66;03m## equal division\u001b[39;00m\n\u001b[1;32m----> 8\u001b[0m splitted_array \u001b[38;5;241m=\u001b[39m np\u001b[38;5;241m.\u001b[39msplit(a,\u001b[38;5;241m3\u001b[39m)\n",
      "File \u001b[1;32m~\\anaconda3\\Lib\\site-packages\\numpy\\lib\\_shape_base_impl.py:889\u001b[0m, in \u001b[0;36msplit\u001b[1;34m(ary, indices_or_sections, axis)\u001b[0m\n\u001b[0;32m    887\u001b[0m     N \u001b[38;5;241m=\u001b[39m ary\u001b[38;5;241m.\u001b[39mshape[axis]\n\u001b[0;32m    888\u001b[0m     \u001b[38;5;28;01mif\u001b[39;00m N \u001b[38;5;241m%\u001b[39m sections:\n\u001b[1;32m--> 889\u001b[0m         \u001b[38;5;28;01mraise\u001b[39;00m \u001b[38;5;167;01mValueError\u001b[39;00m(\n\u001b[0;32m    890\u001b[0m             \u001b[38;5;124m'\u001b[39m\u001b[38;5;124marray split does not result in an equal division\u001b[39m\u001b[38;5;124m'\u001b[39m) \u001b[38;5;28;01mfrom\u001b[39;00m\u001b[38;5;250m \u001b[39m\u001b[38;5;28;01mNone\u001b[39;00m\n\u001b[0;32m    891\u001b[0m \u001b[38;5;28;01mreturn\u001b[39;00m array_split(ary, indices_or_sections, axis)\n",
      "\u001b[1;31mValueError\u001b[0m: array split does not result in an equal division"
     ]
    }
   ],
   "source": [
    "a = np.random.randint(1,10, size =(10,))\n",
    "\n",
    "## not equal division\n",
    "splitted_array = np.array_split(a,3)\n",
    "print(splitted_array)\n",
    "\n",
    "## equal division\n",
    "splitted_array = np.split(a,3) ## will not work because array can not be devided equally"
   ]
  },
  {
   "cell_type": "markdown",
   "id": "529c8ae0-f6d2-48b8-8400-0db25828dca7",
   "metadata": {},
   "source": [
    "### Arithmatic Operator & Mathmatical Function"
   ]
  },
  {
   "cell_type": "code",
   "execution_count": 29,
   "id": "e928d418-d9c3-46e6-94dc-02fe4c6c0d5b",
   "metadata": {},
   "outputs": [
    {
     "name": "stdout",
     "output_type": "stream",
     "text": [
      "[12 23 34 45]\n",
      "[ 8 17 26 35]\n",
      "[ 20  60 120 200]\n",
      "[5.         6.66666667 7.5        8.        ]\n",
      "[0 2 2 0]\n"
     ]
    }
   ],
   "source": [
    "## Faster for vectorization\n",
    "x = np.array([10,20,30,40])\n",
    "y = np.array([2,3,4,5])\n",
    "\n",
    "add = x+y\n",
    "print(add)\n",
    "\n",
    "sub = x-y\n",
    "print(sub)\n",
    "\n",
    "multi = x*y\n",
    "print(multi)\n",
    "\n",
    "div = x/y\n",
    "print(div)\n",
    "\n",
    "reminder = x%y\n",
    "print(reminder)"
   ]
  },
  {
   "cell_type": "code",
   "execution_count": 31,
   "id": "3a56b829-fea4-4729-bbc2-f284c8927ac5",
   "metadata": {},
   "outputs": [
    {
     "name": "stdout",
     "output_type": "stream",
     "text": [
      "[-0.54402111  0.91294525 -0.98803162  0.74511316]\n",
      "[-0.83907153  0.40808206  0.15425145 -0.66693806]\n",
      "[ 572.95779513 1145.91559026 1718.87338539 2291.83118052]\n"
     ]
    }
   ],
   "source": [
    "## mathematical function\n",
    "\n",
    "## trigonometry\n",
    "## sin, cos, tan takes value in radian\n",
    "sin_val = np.sin(x)\n",
    "print(sin_val)\n",
    "\n",
    "cos_val = np.cos(x)\n",
    "print(cos_val)\n",
    "\n",
    "deg_con = np.rad2deg(x)\n",
    "print(deg_con)"
   ]
  },
  {
   "cell_type": "code",
   "execution_count": 37,
   "id": "9913a808-f03d-4a04-8f7d-0a92634b1a51",
   "metadata": {},
   "outputs": [
    {
     "name": "stdout",
     "output_type": "stream",
     "text": [
      "[1.         1.30103    1.47712125 1.60205999]\n",
      "[3.32192809 4.32192809 4.9068906  5.32192809]\n",
      "[3.16227766 4.47213595 5.47722558 6.32455532]\n",
      "100\n",
      "[ 10  30  60 100]\n"
     ]
    }
   ],
   "source": [
    "## Log\n",
    "# 10 diye koybar vaag kora jay\n",
    "base_10_log_val = np.log10(x)\n",
    "print(base_10_log_val)\n",
    "\n",
    "# 2 diye koybar vag kora jay\n",
    "two_diye_vag = np.log2(x)\n",
    "print(two_diye_vag)\n",
    "\n",
    "# square root\n",
    "sqrt = np.sqrt(x)\n",
    "print(sqrt)\n",
    "\n",
    "# sum\n",
    "s = np.sum(x)\n",
    "print(s)\n",
    "\n",
    "# cumulative sum\n",
    "cumulitive = np.cumulative_sum(x)\n",
    "print(cumulitive)"
   ]
  },
  {
   "cell_type": "markdown",
   "id": "dc059ed4-4ac5-4c2c-96c8-3284085d524e",
   "metadata": {},
   "source": [
    "### Broadcasting"
   ]
  },
  {
   "cell_type": "code",
   "execution_count": 40,
   "id": "675af81f-b00d-459c-9268-fa6412e0f448",
   "metadata": {},
   "outputs": [
    {
     "name": "stdout",
     "output_type": "stream",
     "text": [
      "[ 100  400  900 1600]\n"
     ]
    }
   ],
   "source": [
    "x = np.array([10,20,30,40])\n",
    "result = x**2\n",
    "print(result)"
   ]
  },
  {
   "cell_type": "code",
   "execution_count": 44,
   "id": "ab952c85-65ae-4500-84b4-f895c1871a59",
   "metadata": {},
   "outputs": [
    {
     "name": "stdout",
     "output_type": "stream",
     "text": [
      "[[20 40 60]\n",
      " [50 70 90]]\n"
     ]
    }
   ],
   "source": [
    "mat = np.array([[10,20,30],\n",
    "                [40,50,60]\n",
    "               ])\n",
    "#print(mat)\n",
    "result = mat+2\n",
    "#print(result)\n",
    "\n",
    "vector = np.array([10,20,30])\n",
    "sumation = mat+vector\n",
    "print(sumation)"
   ]
  },
  {
   "cell_type": "markdown",
   "id": "6c182ee3-90a0-4fe0-8935-6e722f4e5d25",
   "metadata": {},
   "source": [
    "### Comparison - >, <, <=, >=, ==, !="
   ]
  },
  {
   "cell_type": "code",
   "execution_count": 51,
   "id": "5236b33d-4054-4bfd-8e93-e03f07d0931f",
   "metadata": {},
   "outputs": [
    {
     "name": "stdout",
     "output_type": "stream",
     "text": [
      "[ True  True False  True]\n",
      "[False False  True False]\n",
      "False\n",
      "True\n"
     ]
    }
   ],
   "source": [
    "x = np.array([10,20,30,40])\n",
    "y = np.array([2,3,30,5])\n",
    "\n",
    "greater_than = x>y\n",
    "print(greater_than)\n",
    "\n",
    "equal = x ==y\n",
    "print(equal)\n",
    "\n",
    "# all() -> shob true kina\n",
    "# any() -> je kono ekta true kina\n",
    "print(np.all(greater_than))\n",
    "print(np.any(equal))"
   ]
  },
  {
   "cell_type": "markdown",
   "id": "4fdd8499-ad8b-4037-9d5a-83469628ba14",
   "metadata": {},
   "source": [
    "### Sorting"
   ]
  },
  {
   "cell_type": "code",
   "execution_count": 56,
   "id": "cc74e8d4-017f-47e8-ad81-44c028b9a884",
   "metadata": {},
   "outputs": [
    {
     "name": "stdout",
     "output_type": "stream",
     "text": [
      "[10  2 30 40]\n",
      "[ 2 10 30 40]\n",
      "[ 2  5 10 40]\n",
      "[10  2  5 40]\n"
     ]
    }
   ],
   "source": [
    "## In place sorting does not copy the original one, instead change the original one\n",
    "x = np.array([10,2,30,40])\n",
    "z = x.copy()\n",
    "print(z)\n",
    "z.sort()\n",
    "print(z)\n",
    "\n",
    "## copy the original array. does not change original one\n",
    "x = np.array([10,2,5,40])\n",
    "sort_arr = np.sort(x)\n",
    "print(sort_arr)\n",
    "print(x)"
   ]
  },
  {
   "cell_type": "code",
   "execution_count": 58,
   "id": "d1dac34e-4781-4f50-bc37-d2444f0514f6",
   "metadata": {},
   "outputs": [
    {
     "name": "stdout",
     "output_type": "stream",
     "text": [
      "[[ 3  5 10]\n",
      " [ 4  8  9]]\n",
      "[[ 8  3  5]\n",
      " [10  4  9]]\n"
     ]
    }
   ],
   "source": [
    "## 2d array sorting\n",
    "mat = np.array([[10,3,5],[8,4,9]])\n",
    "\n",
    "# horizontal sort. axis =1\n",
    "hor_sort = np.sort(mat, axis=1)\n",
    "print(hor_sort)\n",
    "\n",
    "# vertical sort. axis =0\n",
    "ver_sort = np.sort(mat, axis=0)\n",
    "print(ver_sort)"
   ]
  },
  {
   "cell_type": "markdown",
   "id": "cd60efb1-ea1b-49f0-b518-569fdbeca2d4",
   "metadata": {},
   "source": [
    "### Searching"
   ]
  },
  {
   "cell_type": "code",
   "execution_count": 59,
   "id": "c789fdb5-db15-420c-9650-b2eda8e25a0a",
   "metadata": {},
   "outputs": [
    {
     "name": "stdout",
     "output_type": "stream",
     "text": [
      "[10  2  5 40]\n"
     ]
    }
   ],
   "source": [
    "print(x)"
   ]
  },
  {
   "cell_type": "code",
   "execution_count": 68,
   "id": "ba554f19-409a-420d-8b23-c4dc32b00f18",
   "metadata": {},
   "outputs": [
    {
     "name": "stdout",
     "output_type": "stream",
     "text": [
      "(array([2]),)\n",
      "(array([0, 2, 3]),)\n",
      "[10  0  0 40]\n",
      "[10  2  5 40]\n",
      "3\n",
      "1\n"
     ]
    }
   ],
   "source": [
    "# np.where(condition, x, y) if true x, otherwise replace with y\n",
    "index = np.where(x==5)\n",
    "print(index)\n",
    "\n",
    "index = np.where(x>=5)\n",
    "print(index)\n",
    "\n",
    "index = np.where(x>5,x,0)  # returns array. ## np.where(condition, x, y) if true x, otherwise replace with y\n",
    "print(index)\n",
    "\n",
    "## Maximum index & Minimum index\n",
    "print(x)\n",
    "maximum_value_index = np.argmax(x)\n",
    "minimum_value_index = np.argmin(x)\n",
    "\n",
    "print(maximum_value_index)\n",
    "print(minimum_value_index)"
   ]
  },
  {
   "cell_type": "markdown",
   "id": "499618bc-0853-4466-bd10-27a09241a103",
   "metadata": {},
   "source": [
    "### Counting"
   ]
  },
  {
   "cell_type": "code",
   "execution_count": 76,
   "id": "14f414d5-217a-4da5-9bed-bb5cbc1e0608",
   "metadata": {},
   "outputs": [
    {
     "name": "stdout",
     "output_type": "stream",
     "text": [
      "[93 19 54 74 62 42 37 72 51 20 78 79 20 15 36 11 73 64 72 99 82 58 17 50\n",
      " 38 57 41 53  7 76 60 43 81  1 34 79 18 53 63 40  2 18 68 84 52 26 64 92\n",
      "  4 36 67 39 51 25  6  9 30 70 93 26 18 14 36 38 26  2 25 14 21  5 10 47\n",
      " 78 83 15 13 34 34 30 16 66 33  5 34 17 43 40 52 37  1 41 69 46 93  9 67\n",
      " 38 23 45 88]\n",
      "0\n",
      "[ 1  2  4  5  6  7  9 10 11 13 14 15 16 17 18 19 20 21 23 25 26 30 33 34\n",
      " 36 37 38 39 40 41 42 43 45 46 47 50 51 52 53 54 57 58 60 62 63 64 66 67\n",
      " 68 69 70 72 73 74 76 78 79 81 82 83 84 88 92 93 99]\n",
      "[2 2 1 2 1 1 2 1 1 1 2 2 1 2 3 1 2 1 1 2 3 2 1 4 3 2 3 1 2 2 1 2 1 1 1 1 2\n",
      " 2 2 1 1 1 1 1 1 2 1 2 1 1 1 2 1 1 1 2 2 1 1 1 1 1 1 3 1]\n"
     ]
    }
   ],
   "source": [
    "x = np.random.randint(1,100, size =(100,))\n",
    "print(x)\n",
    "\n",
    "## np.count_nonzero\n",
    "value_greater_than_60 = np.count_nonzero(x>100)\n",
    "print(value_greater_than_60)\n",
    "\n",
    "## np.unique\n",
    "unique_value, count = np.unique(x, return_counts=True)\n",
    "print(unique_value)\n",
    "print(count)"
   ]
  },
  {
   "cell_type": "markdown",
   "id": "fec047c6-71dc-446d-96a4-a374efbc4ef2",
   "metadata": {},
   "source": [
    "### Statistical Function"
   ]
  },
  {
   "cell_type": "code",
   "execution_count": 1,
   "id": "b220824a-4774-400f-a9e5-77aa53bfaf3e",
   "metadata": {},
   "outputs": [],
   "source": [
    "# np.max()\n",
    "# np.min()\n",
    "# np.mean() -> average\n",
    "# np.median()\n",
    "# np.std() -> standard deviation\n",
    "# np.corrcoef()"
   ]
  },
  {
   "cell_type": "markdown",
   "id": "59e3cb87-fe7e-4351-9311-410986e81396",
   "metadata": {},
   "source": [
    "### Linear Algebra"
   ]
  },
  {
   "cell_type": "code",
   "execution_count": 13,
   "id": "f54c3b11-8b15-4215-844f-0429629d273b",
   "metadata": {},
   "outputs": [
    {
     "name": "stdout",
     "output_type": "stream",
     "text": [
      "[[19 22]\n",
      " [43 50]]\n",
      "13\n",
      "(3, 3)\n",
      "-9.51619735392994e-16\n",
      "2\n"
     ]
    }
   ],
   "source": [
    "import numpy as np\n",
    "A = np.array([\n",
    "    [1,2],\n",
    "    [3,4]\n",
    "])\n",
    "B = np.array([\n",
    "    [5,6],\n",
    "    [7,8]\n",
    "])\n",
    "\n",
    "# Matrix Multiplication\n",
    "dot_product = np.dot(A,B) # Matrix Multiplication\n",
    "print(dot_product)\n",
    "\n",
    "# Trace ber kora\n",
    "print(np.trace(B)) # diagonal borabor value gula sumation kore\n",
    "\n",
    "# Determinent ber kora\n",
    "\n",
    "sq_mat = np.array([\n",
    "    [1,2,3],\n",
    "    [4,5,6],\n",
    "    [7,8,9]\n",
    "])\n",
    "print(sq_mat.shape)\n",
    "det_of_sq = np.linalg.det(sq_mat)\n",
    "print(det_of_sq)\n",
    "\n",
    "# Rank ber kora\n",
    "rank_of_sq = np.linalg.matrix_rank(sq_mat)\n",
    "print(rank_of_sq)"
   ]
  },
  {
   "cell_type": "code",
   "execution_count": 12,
   "id": "a59759c5-8ff8-42da-a7dd-957cd5d4488a",
   "metadata": {},
   "outputs": [
    {
     "name": "stdout",
     "output_type": "stream",
     "text": [
      "(2, 3)\n",
      "1.0\n"
     ]
    }
   ],
   "source": [
    "arr = np.array([1,2,3,4,5,6])\n",
    "b = arr.reshape(2,3)\n",
    "print(b.shape)\n",
    "print(np.sin(np.pi/2))"
   ]
  },
  {
   "cell_type": "code",
   "execution_count": 4,
   "id": "f194a833-a353-4f24-8371-77f13e5b316f",
   "metadata": {},
   "outputs": [
    {
     "name": "stdout",
     "output_type": "stream",
     "text": [
      "Hello World\n"
     ]
    }
   ],
   "source": [
    "print(\"Hello World\")"
   ]
  }
 ],
 "metadata": {
  "kernelspec": {
   "display_name": "Python 3 (ipykernel)",
   "language": "python",
   "name": "python3"
  },
  "language_info": {
   "codemirror_mode": {
    "name": "ipython",
    "version": 3
   },
   "file_extension": ".py",
   "mimetype": "text/x-python",
   "name": "python",
   "nbconvert_exporter": "python",
   "pygments_lexer": "ipython3",
   "version": "3.13.5"
  }
 },
 "nbformat": 4,
 "nbformat_minor": 5
}
