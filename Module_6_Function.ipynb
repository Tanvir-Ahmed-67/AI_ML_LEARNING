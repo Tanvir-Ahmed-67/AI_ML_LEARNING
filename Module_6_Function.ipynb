{
 "cells": [
  {
   "cell_type": "code",
   "execution_count": 3,
   "id": "d52826cb-980f-4a86-85ad-5a0b8b1caed3",
   "metadata": {},
   "outputs": [
    {
     "name": "stdout",
     "output_type": "stream",
     "text": [
      "Hello guest\n"
     ]
    }
   ],
   "source": [
    "# Defining a function\n",
    "def myMethod(user = \"guest\"):\n",
    "    print(f\"Hello {user}\")\n",
    "myMethod()"
   ]
  },
  {
   "cell_type": "code",
   "execution_count": 9,
   "id": "2f4a5e53-2ad3-457a-9c1f-d7f902dcb9e6",
   "metadata": {},
   "outputs": [
    {
     "name": "stdout",
     "output_type": "stream",
     "text": [
      "10 20 30\n",
      "1400\n",
      "30 20 10\n",
      "1400\n"
     ]
    }
   ],
   "source": [
    "## Positional Argument\n",
    "def myMethod(a,b,c):\n",
    "    print(f\"{a} {b} {c}\")\n",
    "    a = a**2\n",
    "    b = b**2\n",
    "    c = c**2\n",
    "    print(a+b+c)\n",
    "myMethod(10,20,30)\n",
    "myMethod(c=10, b=20 , a=30)"
   ]
  },
  {
   "cell_type": "code",
   "execution_count": 10,
   "id": "bb5caa52-1383-44d7-9e00-aa6c5cfd782b",
   "metadata": {},
   "outputs": [
    {
     "name": "stdout",
     "output_type": "stream",
     "text": [
      "10\n",
      "20\n",
      "30\n",
      "40\n",
      "50\n"
     ]
    }
   ],
   "source": [
    "# Variable Sized Arguments\n",
    "def student(*args):\n",
    "    for i in args:\n",
    "        print(i)\n",
    "student(10,20,30,40,50)"
   ]
  },
  {
   "cell_type": "code",
   "execution_count": 11,
   "id": "9e001164-bd52-4790-98d8-61e434748000",
   "metadata": {},
   "outputs": [
    {
     "name": "stdout",
     "output_type": "stream",
     "text": [
      "name:adil\n",
      "age:30\n",
      "height:5.5\n"
     ]
    }
   ],
   "source": [
    "# Keywords Sized Arguments\n",
    "def student(**testArgs):\n",
    "    for key,val in testArgs.items():\n",
    "        print(f\"{key}:{val}\")\n",
    "student(name=\"adil\", age = 30, height = 5.5)"
   ]
  },
  {
   "cell_type": "code",
   "execution_count": 17,
   "id": "372fdaf3-8ff6-4cc8-87eb-afefeda3fdde",
   "metadata": {},
   "outputs": [
    {
     "name": "stdout",
     "output_type": "stream",
     "text": [
      "<class 'tuple'>\n",
      "10 20\n"
     ]
    }
   ],
   "source": [
    "# Return\n",
    "def givePrediction():\n",
    "    return 10,20\n",
    "print(type(givePrediction()))\n",
    "\n",
    "# Unpacking\n",
    "x,y = givePrediction()\n",
    "print(x,y)"
   ]
  },
  {
   "cell_type": "code",
   "execution_count": 20,
   "id": "010060f8-0dd0-4f49-a9d5-f16e04b88676",
   "metadata": {},
   "outputs": [
    {
     "name": "stdout",
     "output_type": "stream",
     "text": [
      "[10, 20, 30] [40, 50, 60]\n"
     ]
    }
   ],
   "source": [
    "# Return\n",
    "def givePrediction():\n",
    "    a = [10,20,30]\n",
    "    b = [40, 50, 60]\n",
    "    return a,b\n",
    "x,y = givePrediction()\n",
    "print(x,y)"
   ]
  },
  {
   "cell_type": "code",
   "execution_count": 25,
   "id": "473e7364-6ca9-4bda-b5af-f42f6fda90fd",
   "metadata": {},
   "outputs": [
    {
     "name": "stdout",
     "output_type": "stream",
     "text": [
      "2\n",
      "5\n"
     ]
    }
   ],
   "source": [
    "# Iterator\n",
    "s = {2, 5, 6, 8, 10}\n",
    "s_iterator = iter(s)\n",
    "print(next(s_iterator))\n",
    "print(next(s_iterator))"
   ]
  },
  {
   "cell_type": "code",
   "execution_count": 30,
   "id": "5d5d6c41-a7f9-4c37-a350-bef74d262129",
   "metadata": {},
   "outputs": [
    {
     "name": "stdout",
     "output_type": "stream",
     "text": [
      "[0, 1, 2, 3, 4]\n",
      "[5, 6, 7, 8, 9]\n",
      "[10, 11, 12, 13, 14]\n"
     ]
    }
   ],
   "source": [
    "# Yield\n",
    "lst = [x for x in range(500)]\n",
    "def dataLoader(chunkSize, lst):\n",
    "    for i in range(0, len(lst), chunkSize):\n",
    "        yield lst[i:i+chunkSize]\n",
    "x = dataLoader(5,lst)\n",
    "print(next(x))\n",
    "print(next(x))\n",
    "print(next(x))"
   ]
  },
  {
   "cell_type": "markdown",
   "id": "1dc496f9-03a6-4446-abe1-9cef77209466",
   "metadata": {},
   "source": [
    "### Lambda Function\n"
   ]
  },
  {
   "cell_type": "code",
   "execution_count": 34,
   "id": "e9c185a5-8ac2-4a9d-8583-9dcf2507d4ea",
   "metadata": {},
   "outputs": [
    {
     "name": "stdout",
     "output_type": "stream",
     "text": [
      "125\n",
      "True\n"
     ]
    }
   ],
   "source": [
    "# Lambda Function\n",
    "sqrt_add = lambda x,y: x**2 + y**2\n",
    "print(sqrt_add(5,10))\n",
    "\n",
    "if_even = lambda x: x % 2 ==0\n",
    "print(if_even(56))"
   ]
  },
  {
   "cell_type": "markdown",
   "id": "0ecdd9ab-7555-4b1f-a4a9-e262db594f1d",
   "metadata": {},
   "source": [
    "### Map"
   ]
  },
  {
   "cell_type": "code",
   "execution_count": 45,
   "id": "c81b8a4a-909b-4336-8969-35c57ec7a1c8",
   "metadata": {},
   "outputs": [
    {
     "name": "stdout",
     "output_type": "stream",
     "text": [
      "[1, 4, 9, 16, 25]\n",
      "['H', 'E', 'L', 'L', 'O', 'W', ' ', 'W', 'O', 'R', 'L', 'D', ' ', '!', ' ', 'T', 'H', 'I', 'S', ' ', 'I', 'S', ' ', 'A', ' ', 'C', 'R', 'U', 'E', 'L', ' ', 'W', 'O', 'R', 'L', 'D', '!', ' ', 'L', 'I', 'V', 'E', ' ', 'I', 'T', ' ', 'O', 'R', ' ', 'D', 'I', 'E', '!']\n",
      "HELLOW WORLD ! THIS IS A CRUEL WORLD! LIVE IT OR DIE!\n",
      "[1, 16, 9, 256, 25]\n"
     ]
    }
   ],
   "source": [
    "lst = [1,2,3,4,5]\n",
    "def square(x):\n",
    "    return x**2\n",
    "lst = list(map(square, lst))\n",
    "print(lst)\n",
    "\n",
    "string = \"hellow world ! this is a cruel world! Live it or die!\"\n",
    "str_2 = list(map(str.upper, string))\n",
    "print(str_2)\n",
    "\n",
    "str_2 = \"\".join(str_2)\n",
    "print(str_2)\n",
    "\n",
    "str_3 = list(map(lambda x:x**2 if x % 2 == 0 else x,lst))\n",
    "print(str_3)"
   ]
  },
  {
   "cell_type": "code",
   "execution_count": null,
   "id": "5024a5d9-060b-4027-a1b3-9ebcf4117a53",
   "metadata": {},
   "outputs": [],
   "source": []
  }
 ],
 "metadata": {
  "kernelspec": {
   "display_name": "Python 3 (ipykernel)",
   "language": "python",
   "name": "python3"
  },
  "language_info": {
   "codemirror_mode": {
    "name": "ipython",
    "version": 3
   },
   "file_extension": ".py",
   "mimetype": "text/x-python",
   "name": "python",
   "nbconvert_exporter": "python",
   "pygments_lexer": "ipython3",
   "version": "3.13.5"
  }
 },
 "nbformat": 4,
 "nbformat_minor": 5
}
