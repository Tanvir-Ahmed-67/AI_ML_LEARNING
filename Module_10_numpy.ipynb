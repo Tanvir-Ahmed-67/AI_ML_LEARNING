{
 "cells": [
  {
   "cell_type": "markdown",
   "id": "7846a05a-16ba-4e02-ad02-fc3e4bb96331",
   "metadata": {},
   "source": [
    "### Problem of traditional array operation - it takes to iterate the whole array using loop"
   ]
  },
  {
   "cell_type": "code",
   "execution_count": 1,
   "id": "a35cea76-bc71-4fd8-93a0-aa2d237a4acb",
   "metadata": {},
   "outputs": [
    {
     "name": "stdout",
     "output_type": "stream",
     "text": [
      "[1, 2, 3, 4, 5, 1, 2, 3, 4, 5, 1, 2, 3, 4, 5, 1, 2, 3, 4, 5, 1, 2, 3, 4, 5]\n",
      "[5, 10, 15, 20, 25]\n"
     ]
    }
   ],
   "source": [
    "arr = [1,2,3,4,5]\n",
    "print(arr * 5)\n",
    "arr = [x*5 for x in arr]\n",
    "print(arr)"
   ]
  },
  {
   "cell_type": "markdown",
   "id": "fd86b214-6a32-48d3-90cb-f948beabb0ad",
   "metadata": {},
   "source": [
    "### Using np.array() eliminate traditional for loop operation. Much faster than for loop"
   ]
  },
  {
   "cell_type": "code",
   "execution_count": 2,
   "id": "3f332a2a-7aa9-4a63-8631-cfee46bb1aee",
   "metadata": {},
   "outputs": [
    {
     "name": "stdout",
     "output_type": "stream",
     "text": [
      "[ 5 10 15 20 25]\n"
     ]
    }
   ],
   "source": [
    "import numpy as np\n",
    "arr1 = np.array([1,2,3,4,5])\n",
    "arr1 = arr1*5\n",
    "print(arr1)"
   ]
  },
  {
   "cell_type": "markdown",
   "id": "c7dadb6f-ab1d-4c71-8579-379497af8103",
   "metadata": {},
   "source": [
    "### NdArray Creation"
   ]
  },
  {
   "cell_type": "code",
   "execution_count": 8,
   "id": "6b092a1f-d139-4eca-b571-69a17bd56ac7",
   "metadata": {},
   "outputs": [
    {
     "name": "stdout",
     "output_type": "stream",
     "text": [
      "<class 'numpy.ndarray'>\n",
      "1\n",
      "(6,)\n",
      "<class 'numpy.ndarray'>\n",
      "2\n",
      "(2, 3)\n",
      "3\n"
     ]
    }
   ],
   "source": [
    "import numpy as np\n",
    "# 1D Array\n",
    "arr1 = np.array([1,2,3,4,5,6])\n",
    "print(type(arr1))\n",
    "print(arr1.ndim)\n",
    "print(arr1.shape)\n",
    "\n",
    "# 2d array\n",
    "arr2 = np.array([[1,2,3],\n",
    "                [4,5,6]])\n",
    "print(type(arr2))\n",
    "print(arr2.ndim)\n",
    "print(arr2.shape)\n",
    "\n",
    "# 3d array\n",
    "arr3 = np.array([\n",
    "    [\n",
    "        [1,2,3],\n",
    "        [4,5,6]\n",
    "    ],\n",
    "    [\n",
    "        [7,8,9],\n",
    "        [10,11,12]\n",
    "    ]\n",
    "])\n",
    "print(arr3.ndim)"
   ]
  },
  {
   "cell_type": "markdown",
   "id": "9db3f9f1-1d2f-4620-b81d-75510518004e",
   "metadata": {},
   "source": [
    "## Array Attribute"
   ]
  },
  {
   "cell_type": "code",
   "execution_count": 11,
   "id": "8104cd28-3028-4f62-829e-256b1f564c63",
   "metadata": {},
   "outputs": [
    {
     "name": "stdout",
     "output_type": "stream",
     "text": [
      ".........Dimention..........\n",
      "1\n",
      "2\n",
      "3\n",
      ".........Shape..........\n",
      "(6,)\n",
      "(2, 3)\n",
      "(2, 2, 3)\n",
      ".........Data Type(dtype)..........\n",
      "int64\n",
      "int64\n",
      "int64\n",
      ".........Size..........\n",
      "6\n",
      "6\n",
      "12\n"
     ]
    }
   ],
   "source": [
    "# Dimension \n",
    "print(\".........Dimention..........\")\n",
    "print(arr1.ndim)\n",
    "print(arr2.ndim)\n",
    "print(arr3.ndim)\n",
    "\n",
    "# Shape\n",
    "print(\".........Shape..........\")\n",
    "print(arr1.shape)\n",
    "print(arr2.shape)\n",
    "print(arr3.shape)\n",
    "\n",
    "# Data Type\n",
    "print(\".........Data Type(dtype)..........\")\n",
    "print(arr1.dtype)\n",
    "print(arr2.dtype)\n",
    "print(arr3.dtype)\n",
    "\n",
    "# Size\n",
    "print(\".........Size..........\")\n",
    "print(arr1.size)\n",
    "print(arr2.size)\n",
    "print(arr3.size)"
   ]
  },
  {
   "cell_type": "markdown",
   "id": "eb457b27-da7f-46d8-a25b-2961b81a0e8e",
   "metadata": {},
   "source": [
    "### Upcasting data type"
   ]
  },
  {
   "cell_type": "code",
   "execution_count": 21,
   "id": "10501e39-a3dc-4cbf-8be3-a7780e2856f0",
   "metadata": {},
   "outputs": [
    {
     "name": "stdout",
     "output_type": "stream",
     "text": [
      "int64\n",
      "float64\n",
      "<U32\n"
     ]
    }
   ],
   "source": [
    "arr = np.array([1,2,3])\n",
    "print(arr.dtype)  # by default dtype is int64\n",
    "\n",
    "# Upcasted to float\n",
    "arr = np.array([1,2,3.4,5])\n",
    "print(arr.dtype)  # upcasted dtype to float64\n",
    "\n",
    "# Upcasted to string\n",
    "arr = np.array([1,2.5,3,'hello'])\n",
    "print(arr.dtype)  # upcasted dtype to U32\n"
   ]
  },
  {
   "cell_type": "markdown",
   "id": "7c57a7bd-0b57-4dd0-97fa-4908e6987e69",
   "metadata": {},
   "source": [
    "### Selecting a data type by my own for an array"
   ]
  },
  {
   "cell_type": "code",
   "execution_count": 18,
   "id": "154288a4-2de0-49b0-b3b0-e7a744fcf56f",
   "metadata": {},
   "outputs": [
    {
     "name": "stdout",
     "output_type": "stream",
     "text": [
      "int16\n"
     ]
    }
   ],
   "source": [
    "# Using dtype = np.int16 we can set the array dtype\n",
    "\n",
    "arr = np.array([1,2,300], dtype = np.int16)\n",
    "print(arr.dtype)"
   ]
  },
  {
   "cell_type": "code",
   "execution_count": 16,
   "id": "a786b793-e939-4054-b1fb-d5a3830fac7a",
   "metadata": {},
   "outputs": [
    {
     "name": "stdout",
     "output_type": "stream",
     "text": [
      "int64\n",
      "[  1   2 300]\n"
     ]
    }
   ],
   "source": [
    "## astype\n",
    "arr = arr.astype(np.int64)\n",
    "print(arr.dtype)\n",
    "print(arr)"
   ]
  },
  {
   "cell_type": "markdown",
   "id": "17929285-b148-4ef4-8678-54d29ae02c36",
   "metadata": {},
   "source": [
    "### Creating ndarray from exiting list"
   ]
  },
  {
   "cell_type": "code",
   "execution_count": 3,
   "id": "f5591c17-76cf-48b6-895a-150712e27ed2",
   "metadata": {},
   "outputs": [
    {
     "name": "stdout",
     "output_type": "stream",
     "text": [
      "<class 'numpy.ndarray'>\n",
      "int16\n",
      "1\n",
      "[1 2 3 4 5]\n",
      "<class 'numpy.ndarray'>\n",
      "int16\n",
      "(5,)\n",
      "1\n",
      "[1 2 3 4 5]\n",
      "<class 'numpy.ndarray'>\n",
      "int64\n",
      "(5,)\n",
      "1\n",
      "[1 2 3 4 5]\n",
      "<class 'dict'>\n",
      "dict_keys(['a', 'b', 'c'])\n",
      "dict_values([10, 20, 30])\n",
      "dict_items([('a', 10), ('b', 20), ('c', 30)])\n",
      "<class 'numpy.ndarray'>\n",
      "<U1\n",
      "(3,)\n",
      "1\n",
      "['a' 'b' 'c']\n",
      "<class 'numpy.ndarray'>\n",
      "int64\n",
      "(3,)\n",
      "1\n",
      "[10 20 30]\n",
      "[['a' '10']\n",
      " ['b' '20']\n",
      " ['c' '30']]\n",
      "<class 'numpy.ndarray'>\n",
      "<U21\n",
      "(3, 2)\n",
      "2\n"
     ]
    }
   ],
   "source": [
    "import numpy as np\n",
    "# from list\n",
    "\n",
    "lst = [1,2,3,4,5]\n",
    "arr = np.array(lst, dtype = np.int16)\n",
    "print(type(arr))\n",
    "print(arr.dtype)\n",
    "print(arr.ndim)\n",
    "print(arr)\n",
    "\n",
    "# from tuple\n",
    "tpl = (10,20,30)\n",
    "tpl = np.array(tpl)\n",
    "print(type(arr))\n",
    "print(arr.dtype)\n",
    "print(arr.shape)\n",
    "print(arr.ndim)\n",
    "print(arr)\n",
    "\n",
    "# from set\n",
    "# set can not be converted to np.array. Instead its need to pass as a list\n",
    "st = {1,2,3,4,5}\n",
    "st = np.array(list(st))\n",
    "print(type(st))\n",
    "print(st.dtype)\n",
    "print(st.shape)\n",
    "print(st.ndim)\n",
    "print(st)\n",
    "\n",
    "# from dictionary\n",
    "dc = {'a':10, 'b':20, 'c':30}\n",
    "print(type(dc))\n",
    "keys = dc.keys()\n",
    "values = dc.values()\n",
    "items = dc.items()\n",
    "print(keys)\n",
    "print(values)\n",
    "print(items)\n",
    "\n",
    "# keys to nd array\n",
    "arr = np.array(list(keys))\n",
    "print(type(arr))\n",
    "print(arr.dtype)\n",
    "print(arr.shape)\n",
    "print(arr.ndim)\n",
    "print(arr)\n",
    "\n",
    "\n",
    "# values to ndarray\n",
    "arr = np.array(list(values))\n",
    "print(type(arr))\n",
    "print(arr.dtype)\n",
    "print(arr.shape)\n",
    "print(arr.ndim)\n",
    "print(arr)\n",
    "\n",
    "# items to ndarray\n",
    "arr = np.array(list(items))\n",
    "print(arr)\n",
    "print(type(arr))\n",
    "print(arr.dtype)\n",
    "print(arr.shape)\n",
    "print(arr.ndim)"
   ]
  },
  {
   "cell_type": "markdown",
   "id": "4813236c-930d-487b-ab36-d7e65df9938e",
   "metadata": {},
   "source": [
    "## Creating nd array from scratch"
   ]
  },
  {
   "cell_type": "code",
   "execution_count": 22,
   "id": "587eda26-2291-46fe-bc14-f7a8c62b0142",
   "metadata": {},
   "outputs": [
    {
     "name": "stdout",
     "output_type": "stream",
     "text": [
      "[[0 0 0]\n",
      " [0 0 0]]\n",
      "<class 'numpy.ndarray'>\n",
      "int8\n",
      "(2, 3)\n",
      "6\n",
      "[[[0 0 0]\n",
      "  [0 0 0]]\n",
      "\n",
      " [[0 0 0]\n",
      "  [0 0 0]]]\n",
      "(2, 2, 3)\n",
      "[[[1 1 1]\n",
      "  [1 1 1]\n",
      "  [1 1 1]\n",
      "  [1 1 1]]\n",
      "\n",
      " [[1 1 1]\n",
      "  [1 1 1]\n",
      "  [1 1 1]\n",
      "  [1 1 1]]\n",
      "\n",
      " [[1 1 1]\n",
      "  [1 1 1]\n",
      "  [1 1 1]\n",
      "  [1 1 1]]]\n",
      "<class 'numpy.ndarray'>\n",
      "int8\n",
      "(3, 4, 3)\n",
      "36\n",
      "[[[1 1 1]\n",
      "  [1 1 1]]\n",
      "\n",
      " [[1 1 1]\n",
      "  [1 1 1]]]\n",
      "[[97  0  0]\n",
      " [ 0 98  0]\n",
      " [ 0  0 99]\n",
      " [ 0  0  0]]\n",
      "<class 'numpy.ndarray'>\n",
      "int8\n",
      "(4, 3)\n",
      "12\n",
      "[[[1 1 1]\n",
      "  [1 1 1]]\n",
      "\n",
      " [[1 1 1]\n",
      "  [1 1 1]]]\n",
      "(2, 2, 3)\n",
      "[[10 10 10]\n",
      " [10 10 10]\n",
      " [10 10 10]\n",
      " [10 10 10]]\n",
      "[[[10 10 10]\n",
      "  [10 10 10]]\n",
      "\n",
      " [[10 10 10]\n",
      "  [10 10 10]]]\n"
     ]
    }
   ],
   "source": [
    "# np.zeros(shape)\n",
    "# creates array of all element as 0\n",
    "arr = np.zeros((2,3), dtype = np.int8)\n",
    "print(arr)\n",
    "print(type(arr))\n",
    "print(arr.dtype)\n",
    "print(arr.shape)\n",
    "print(arr.size)\n",
    "\n",
    "# np.zeros_like\n",
    "# creates a 0 matrix but taking shape from an existing array\n",
    "arr = np.zeros_like(arr3)\n",
    "print(arr)\n",
    "print(arr.shape)\n",
    "\n",
    "# np.ones\n",
    "# creates array of all element as 1\n",
    "arr = np.ones((3, 4, 3), dtype = np.int8)\n",
    "print(arr)\n",
    "print(type(arr))\n",
    "print(arr.dtype)\n",
    "print(arr.shape)\n",
    "print(arr.size)\n",
    "\n",
    "# np.ones_like\n",
    "# creates a 1 matrix but taking shape from an existing array\n",
    "arr = np.ones_like(arr3)\n",
    "print(arr)\n",
    "\n",
    "# np.empty\n",
    "# creates array of all element as random junc value\n",
    "arr = np.empty((4,3), dtype=np.int8)\n",
    "print(arr)\n",
    "print(type(arr))\n",
    "print(arr.dtype)\n",
    "print(arr.shape)\n",
    "print(arr.size)\n",
    "\n",
    "# np.empty_like\n",
    "# creates a junc value matrix but taking shape from an existing arrajunc value\n",
    "arr = np.empty_like(arr3)\n",
    "print(arr)\n",
    "print(arr.shape)\n",
    "\n",
    "# np.full(shape, fill_value)\n",
    "# creates array of all element as 10\n",
    "arr = np.full((4,3),10)\n",
    "print(arr)\n",
    "\n",
    "# np.full_like\n",
    "arr = np.full_like(arr3,10)\n",
    "print(arr)"
   ]
  },
  {
   "cell_type": "markdown",
   "id": "b0640827-f3ea-4e5e-8cea-30b2c6d77bfd",
   "metadata": {},
   "source": [
    "### Array creation with random value"
   ]
  },
  {
   "cell_type": "code",
   "execution_count": 26,
   "id": "061881db-fd80-448d-929c-48d2742c1705",
   "metadata": {},
   "outputs": [
    {
     "name": "stdout",
     "output_type": "stream",
     "text": [
      "[[0.20364102 0.74151122 0.27233105]\n",
      " [0.51313597 0.14045174 0.64658494]]\n",
      "(2, 3)\n",
      "float64\n",
      "2\n",
      "6\n",
      "<class 'numpy.ndarray'>\n"
     ]
    }
   ],
   "source": [
    "# np.random.rand(shape)\n",
    "import numpy as np\n",
    "arr = np.random.rand(2,3)\n",
    "print(arr)\n",
    "print(arr.shape)\n",
    "print(arr.dtype)\n",
    "print(arr.ndim)\n",
    "print(arr.size)\n",
    "print(type(arr))"
   ]
  },
  {
   "cell_type": "code",
   "execution_count": 28,
   "id": "1201d481-f710-4c44-a0ff-017606266a1b",
   "metadata": {},
   "outputs": [
    {
     "name": "stdout",
     "output_type": "stream",
     "text": [
      "[[2 1 4]\n",
      " [3 1 3]]\n",
      "(2, 3)\n",
      "int32\n",
      "2\n",
      "6\n",
      "<class 'numpy.ndarray'>\n",
      "[4 4 1 1 4]\n",
      "(5,)\n",
      "int32\n",
      "1\n",
      "5\n",
      "<class 'numpy.ndarray'>\n"
     ]
    }
   ],
   "source": [
    "# np.random.randint(desired value range, shape)\n",
    "# creates a np array of (2,3) and all the values between 1-5\n",
    "arr = np.random.randint(1,5,(2,3))\n",
    "print(arr)\n",
    "print(arr.shape)\n",
    "print(arr.dtype)\n",
    "print(arr.ndim)\n",
    "print(arr.size)\n",
    "print(type(arr))\n",
    "\n",
    "# creating 1D array using randint\n",
    "arr = np.random.randint(1,5,(5,))\n",
    "print(arr)\n",
    "print(arr.shape)\n",
    "print(arr.dtype)\n",
    "print(arr.ndim)\n",
    "print(arr.size)\n",
    "print(type(arr))"
   ]
  },
  {
   "cell_type": "code",
   "execution_count": 29,
   "id": "da8e13e7-3b5f-4fb2-8a84-db83e7bd3081",
   "metadata": {},
   "outputs": [
    {
     "name": "stdout",
     "output_type": "stream",
     "text": [
      "[[63.03592482 90.91529015 97.43694837]\n",
      " [74.89891239 80.53614981 75.46171883]]\n",
      "(2, 3)\n",
      "float64\n",
      "2\n",
      "6\n",
      "<class 'numpy.ndarray'>\n"
     ]
    }
   ],
   "source": [
    "# np.random.uniform(desired value range, shape)\n",
    "# this method generates using floating value\n",
    "arr = np.random.uniform(50,100,(2,3))\n",
    "print(arr)\n",
    "print(arr.shape)\n",
    "print(arr.dtype)\n",
    "print(arr.ndim)\n",
    "print(arr.size)\n",
    "print(type(arr))"
   ]
  },
  {
   "cell_type": "markdown",
   "id": "34a8cf1e-d971-4d5e-b1f1-0e35bc7986cd",
   "metadata": {},
   "source": [
    "### Array creation with np.arange function"
   ]
  },
  {
   "cell_type": "code",
   "execution_count": 35,
   "id": "fa0a390e-710d-4554-8b5e-60bc2c0c0b80",
   "metadata": {},
   "outputs": [
    {
     "name": "stdout",
     "output_type": "stream",
     "text": [
      "[1 2 3 4 5 6 7 8 9]\n",
      "[[1 2 3]\n",
      " [4 5 6]\n",
      " [7 8 9]]\n",
      "(3, 3)\n",
      "int64\n",
      "2\n",
      "9\n",
      "<class 'numpy.ndarray'>\n",
      "........................\n",
      "[ 1.    3.25  5.5   7.75 10.  ]\n",
      "(5,)\n",
      "float64\n",
      "1\n",
      "5\n",
      "<class 'numpy.ndarray'>\n",
      "[ 1.  2.  4.  8. 16.]\n"
     ]
    }
   ],
   "source": [
    "## np.arange(start, end, steps) & np.reshape()\n",
    "\n",
    "arr = np.arange(1,10,1)  # creates 1d array\n",
    "print(arr)\n",
    "arr = np.arange(1,10,1).reshape(3,3)  # using reshape we changed the array to 3d array\n",
    "print(arr)\n",
    "print(arr.shape)\n",
    "print(arr.dtype)\n",
    "print(arr.ndim)\n",
    "print(arr.size)\n",
    "print(type(arr))\n",
    "print(\"........................\")\n",
    "\n",
    "# np.linspace(start, end, koyta). Evenly distribute kore\n",
    "# 1 theke 10 er moddhe 5 ta evenly point pick kore matrix create korbe\n",
    "arr = np.linspace(1, 10, 5)\n",
    "print(arr)\n",
    "print(arr.shape)\n",
    "print(arr.dtype)\n",
    "print(arr.ndim)\n",
    "print(arr.size)\n",
    "print(type(arr))\n",
    "\n",
    "## np.logspace(start, end, koyta)\n",
    "arr = np.logspace(0,4,5, base=2)\n",
    "print(arr)"
   ]
  },
  {
   "cell_type": "markdown",
   "id": "56590709-dcc7-466b-8c64-792e270f12e4",
   "metadata": {},
   "source": [
    "### Creating Matrix for linear algebra."
   ]
  },
  {
   "cell_type": "code",
   "execution_count": 36,
   "id": "edcdba66-4d58-4ad3-a4f9-1523291e3c10",
   "metadata": {},
   "outputs": [
    {
     "name": "stdout",
     "output_type": "stream",
     "text": [
      "[[1 0 0 0]\n",
      " [0 2 0 0]\n",
      " [0 0 3 0]\n",
      " [0 0 0 4]]\n",
      "(4, 4)\n",
      "[[1. 0. 0. 0.]\n",
      " [0. 1. 0. 0.]\n",
      " [0. 0. 1. 0.]\n",
      " [0. 0. 0. 1.]]\n",
      "(4, 4)\n",
      "[[0. 0. 0. 0.]\n",
      " [1. 0. 0. 0.]\n",
      " [0. 1. 0. 0.]]\n"
     ]
    }
   ],
   "source": [
    "# Diagonal Matrix\n",
    "# diagonal borabor value thakbe. baki shob value hbe 0\n",
    "diagonal_matrix = np.diag([1,2,3,4])\n",
    "print(diagonal_matrix)\n",
    "print(diagonal_matrix.shape)\n",
    "\n",
    "# identity matrix. np.eye(row, coll, k)\n",
    "# diagonal borabor value thakbe 1. baki shob value hbe 0\n",
    "iden = np.eye(4)\n",
    "print(iden)\n",
    "print(iden.shape)\n",
    "\n",
    "# changing diagonal using k value of eye()\n",
    "iden = np.eye(3,4,-1)\n",
    "print(iden)"
   ]
  },
  {
   "cell_type": "markdown",
   "id": "21bcf904-7810-4638-bce7-649af12751b2",
   "metadata": {},
   "source": [
    "### Indexing"
   ]
  },
  {
   "cell_type": "code",
   "execution_count": null,
   "id": "844a397c-d200-482b-bc41-8315bb18e265",
   "metadata": {},
   "outputs": [],
   "source": [
    "arr1 = [1,2,3,4,5]\n",
    "arr2 = [[1, 2, 3], [4, 5, 6]]\n",
    "\n",
    "arr1 = np.array(arr1)\n",
    "arr2 = np.array(arr2)\n",
    "print(arr1[2])\n",
    "arr1[2] = 100\n",
    "print(arr1)\n",
    "\n",
    "print(arr2[0][1])\n",
    "arr2[0][1] = 100\n",
    "print(arr2)"
   ]
  },
  {
   "cell_type": "markdown",
   "id": "5f4f5e63-a317-44f8-ac6d-e8335fdadfb9",
   "metadata": {},
   "source": [
    "### Slicing"
   ]
  },
  {
   "cell_type": "code",
   "execution_count": 38,
   "id": "5d04e8a6-f6e0-4a5b-af22-b1bb910f522f",
   "metadata": {},
   "outputs": [
    {
     "name": "stdout",
     "output_type": "stream",
     "text": [
      "[[  1 100   3]\n",
      " [  4   5   6]]\n",
      "...............\n",
      "[[  1 100   3]]\n",
      "[[4 5 6]]\n",
      "...............\n",
      "[[1]\n",
      " [4]]\n"
     ]
    }
   ],
   "source": [
    "# 1d array slicing\n",
    "# arr[start:end: step]\n",
    "arr1_modified = arr1[1:4]\n",
    "#print(arr1_modified)\n",
    "\n",
    "# 2d array slicing\n",
    "#arr[rowstart:rowend:rowstep,colstart:colend:colstep]\n",
    "print(arr2)\n",
    "\n",
    "print(\"...............\")\n",
    "# getting row 0\n",
    "row0 = arr2[0:1,]\n",
    "\n",
    "# getting row 1\n",
    "row1 = arr2[1:,]\n",
    "\n",
    "print(row0)\n",
    "print(row1)\n",
    "print(\"...............\")\n",
    "\n",
    "# getting a colum\n",
    "colum0 = arr2[::, 0:1]\n",
    "print(colum0)"
   ]
  },
  {
   "cell_type": "markdown",
   "id": "a64cfa86-b762-46a7-b119-c915c1ea4f25",
   "metadata": {},
   "source": [
    "### Advanced indexing and iteration"
   ]
  },
  {
   "cell_type": "code",
   "execution_count": 40,
   "id": "41aacecc-60a8-4b9d-bffc-7e966d13d5c6",
   "metadata": {},
   "outputs": [
    {
     "name": "stdout",
     "output_type": "stream",
     "text": [
      "[  1   2 100   4   5]\n",
      "[  2 600]\n",
      "[  1   2 100   4   5]\n",
      ".....................\n",
      "[10 20 30 40 50 60]\n",
      "[20 40]\n",
      ".....................\n",
      "[[  1 100   3]\n",
      " [  4   5   6]]\n",
      "[100   6]\n",
      "[100   3   4   5   6]\n",
      "[[1 0 0]\n",
      " [0 0 0]]\n"
     ]
    }
   ],
   "source": [
    "## copy in array\n",
    "print(arr1)\n",
    "arr_modified = arr1[1:3].copy()\n",
    "arr_modified[1] = 600\n",
    "print(arr_modified)\n",
    "print(arr1)\n",
    "\n",
    "print(\".....................\")\n",
    "\n",
    "## Advanced Slicing\n",
    "ls = np.array([10,20,30,40,50,60])\n",
    "print(ls)\n",
    "values = ls[[1,3]]\n",
    "print(values)\n",
    "\n",
    "## advanced slicing for 2d array\n",
    "print(\".....................\")\n",
    "print(arr2)\n",
    "print(arr2[[0,1],[1,2]])\n",
    "\n",
    "# boolean operation\n",
    "print(arr2[arr2>2])\n",
    "arr2[arr2>2] = 0\n",
    "print(arr2)"
   ]
  },
  {
   "cell_type": "code",
   "execution_count": 41,
   "id": "b9ff7f7e-2797-48ff-bc37-962a4d9c6087",
   "metadata": {},
   "outputs": [
    {
     "name": "stdout",
     "output_type": "stream",
     "text": [
      "[[ 10  20  30  40]\n",
      " [100 200 300 400]]\n",
      "10\n",
      "20\n",
      "30\n",
      "40\n",
      "100\n",
      "200\n",
      "300\n",
      "400\n"
     ]
    }
   ],
   "source": [
    "## Iteration\n",
    "arr = np.array([[10,20,30,40],[100,200,300,400]])\n",
    "print(arr)\n",
    "for i in np.nditer(arr):\n",
    "    print(i)"
   ]
  },
  {
   "cell_type": "code",
   "execution_count": 42,
   "id": "9649a05c-46db-4134-8841-daa5de616029",
   "metadata": {},
   "outputs": [
    {
     "name": "stdout",
     "output_type": "stream",
     "text": [
      "[20 50]\n"
     ]
    }
   ],
   "source": [
    "arr = np.array([[10,20,30],[40,50,60]])\n",
    "print(arr[:,1])"
   ]
  },
  {
   "cell_type": "code",
   "execution_count": null,
   "id": "1a364e5e-00d2-4391-b399-65e08269d67b",
   "metadata": {},
   "outputs": [],
   "source": []
  }
 ],
 "metadata": {
  "kernelspec": {
   "display_name": "Python 3 (ipykernel)",
   "language": "python",
   "name": "python3"
  },
  "language_info": {
   "codemirror_mode": {
    "name": "ipython",
    "version": 3
   },
   "file_extension": ".py",
   "mimetype": "text/x-python",
   "name": "python",
   "nbconvert_exporter": "python",
   "pygments_lexer": "ipython3",
   "version": "3.13.5"
  }
 },
 "nbformat": 4,
 "nbformat_minor": 5
}
