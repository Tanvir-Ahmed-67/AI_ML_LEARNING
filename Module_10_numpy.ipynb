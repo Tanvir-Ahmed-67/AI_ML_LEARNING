{
 "cells": [
  {
   "cell_type": "markdown",
   "id": "4168dcb7-767c-4cc8-9d20-7b21468a0875",
   "metadata": {},
   "source": [
    "### Array creation with random value"
   ]
  },
  {
   "cell_type": "code",
   "execution_count": 3,
   "id": "e7fcd910-5654-4766-b651-df268945df8e",
   "metadata": {},
   "outputs": [
    {
     "name": "stdout",
     "output_type": "stream",
     "text": [
      "[[0.27546809 0.43333125 0.30358353]\n",
      " [0.01976688 0.7613784  0.9568835 ]]\n",
      "(2, 3)\n",
      "float64\n",
      "2\n",
      "6\n",
      "<class 'numpy.ndarray'>\n"
     ]
    }
   ],
   "source": [
    "## np.random.rand\n",
    "import numpy as np\n",
    "arr = np.random.rand(2,3)\n",
    "print(arr)\n",
    "print(arr.shape)\n",
    "print(arr.dtype)\n",
    "print(arr.ndim)\n",
    "print(arr.size)\n",
    "print(type(arr))"
   ]
  },
  {
   "cell_type": "code",
   "execution_count": 2,
   "id": "850aa71c-113a-428f-8618-5c7776e8ba5d",
   "metadata": {},
   "outputs": [
    {
     "name": "stdout",
     "output_type": "stream",
     "text": [
      "[[2 1 2]\n",
      " [3 4 2]]\n",
      "(2, 3)\n",
      "int32\n",
      "2\n",
      "6\n",
      "<class 'numpy.ndarray'>\n"
     ]
    }
   ],
   "source": [
    "## np.random.randint\n",
    "arr = np.random.randint(1,5,(2,3))\n",
    "print(arr)\n",
    "print(arr.shape)\n",
    "print(arr.dtype)\n",
    "print(arr.ndim)\n",
    "print(arr.size)\n",
    "print(type(arr))"
   ]
  },
  {
   "cell_type": "code",
   "execution_count": 10,
   "id": "e42cf3f0-1668-46b2-a23c-d0f8797269ed",
   "metadata": {},
   "outputs": [
    {
     "name": "stdout",
     "output_type": "stream",
     "text": [
      "[[3.76635625 3.84471045 2.87170317]\n",
      " [1.27262553 3.30980154 3.0259492 ]]\n",
      "(2, 3)\n",
      "float64\n",
      "2\n",
      "6\n",
      "<class 'numpy.ndarray'>\n"
     ]
    }
   ],
   "source": [
    "## np.random.uniform\n",
    "arr = np.random.uniform(1,5,(2,3))\n",
    "print(arr)\n",
    "print(arr.shape)\n",
    "print(arr.dtype)\n",
    "print(arr.ndim)\n",
    "print(arr.size)\n",
    "print(type(arr))"
   ]
  },
  {
   "cell_type": "markdown",
   "id": "c092aae7-37ea-4e1d-aa6a-8df15236f890",
   "metadata": {},
   "source": [
    "### Array creation with np.arange function"
   ]
  },
  {
   "cell_type": "code",
   "execution_count": 70,
   "id": "47003f13-44f6-4fca-bc4b-3d2b843c5c34",
   "metadata": {},
   "outputs": [
    {
     "name": "stdout",
     "output_type": "stream",
     "text": [
      "[[1 2 3]\n",
      " [4 5 6]\n",
      " [7 8 9]]\n",
      "(3, 3)\n",
      "int64\n",
      "2\n",
      "9\n",
      "<class 'numpy.ndarray'>\n",
      "........................\n",
      "[ 0.   2.5  5.   7.5 10. ]\n",
      "(5,)\n",
      "float64\n",
      "1\n",
      "5\n",
      "<class 'numpy.ndarray'>\n",
      "[ 1.  2.  4.  8. 16.]\n"
     ]
    }
   ],
   "source": [
    "## np.arange(start, end, steps) & np.reshape()\n",
    "arr = np.arange(1,10,1).reshape(3,3)\n",
    "print(arr)\n",
    "print(arr.shape)\n",
    "print(arr.dtype)\n",
    "print(arr.ndim)\n",
    "print(arr.size)\n",
    "print(type(arr))\n",
    "print(\"........................\")\n",
    "## np.linspace(start, end, koyta)\n",
    "arr = np.linspace(0, 10, 5)\n",
    "print(arr)\n",
    "print(arr.shape)\n",
    "print(arr.dtype)\n",
    "print(arr.ndim)\n",
    "print(arr.size)\n",
    "print(type(arr))\n",
    "\n",
    "## np.logspace(start, end, koyta)\n",
    "arr = np.logspace(0,4,5, base=2)\n",
    "print(arr)"
   ]
  },
  {
   "cell_type": "markdown",
   "id": "2457245f-7234-40b0-9253-2a7a29ba5247",
   "metadata": {},
   "source": [
    "## Creating Matrix for linear algebra"
   ]
  },
  {
   "cell_type": "code",
   "execution_count": 25,
   "id": "27d99f8d-0aaa-45f5-859a-06fe9d19cba6",
   "metadata": {},
   "outputs": [
    {
     "name": "stdout",
     "output_type": "stream",
     "text": [
      "[[1 0 0 0]\n",
      " [0 2 0 0]\n",
      " [0 0 3 0]\n",
      " [0 0 0 4]]\n",
      "(4, 4)\n",
      "[[1. 0. 0. 0.]\n",
      " [0. 1. 0. 0.]\n",
      " [0. 0. 1. 0.]\n",
      " [0. 0. 0. 1.]]\n",
      "(4, 4)\n",
      "[[0. 0. 0. 0.]\n",
      " [1. 0. 0. 0.]\n",
      " [0. 1. 0. 0.]]\n"
     ]
    }
   ],
   "source": [
    "## Diagonal Matrix & Identity Matrix\n",
    "diagonal_matrix = np.diag([1,2,3,4])\n",
    "print(diagonal_matrix)\n",
    "print(diagonal_matrix.shape)\n",
    "\n",
    "##  identity matrix. np.eye(row, coll, k)\n",
    "iden = np.eye(4)\n",
    "print(iden)\n",
    "print(iden.shape)\n",
    "\n",
    "## changing diagonal using k value of eye()\n",
    "iden = np.eye(3,4,-1)\n",
    "print(iden)"
   ]
  },
  {
   "cell_type": "markdown",
   "id": "ac66ade8-581f-4f64-b796-f2267cd9c95b",
   "metadata": {},
   "source": [
    "## Indexing"
   ]
  },
  {
   "cell_type": "code",
   "execution_count": 33,
   "id": "f65b034d-2a10-4674-a65e-a6c48ac58184",
   "metadata": {},
   "outputs": [
    {
     "name": "stdout",
     "output_type": "stream",
     "text": [
      "3\n",
      "[  1   2 100   4   5]\n",
      "2\n",
      "[[  1 100   3]\n",
      " [  4   5   6]]\n"
     ]
    }
   ],
   "source": [
    "arr1 = [1,2,3,4,5]\n",
    "arr2 = [[1, 2, 3], [4, 5, 6]]\n",
    "\n",
    "arr1 = np.array(arr1)\n",
    "arr2 = np.array(arr2)\n",
    "print(arr1[2])\n",
    "arr1[2] = 100\n",
    "print(arr1)\n",
    "print(arr2[0][1])\n",
    "arr2[0][1] = 100\n",
    "print(arr2)"
   ]
  },
  {
   "cell_type": "markdown",
   "id": "133a9fef-5d8c-4420-b10f-5d1edb7abed0",
   "metadata": {},
   "source": [
    "### Slicing"
   ]
  },
  {
   "cell_type": "code",
   "execution_count": 49,
   "id": "5317fcf9-cb29-460d-967c-cf1db94ade62",
   "metadata": {},
   "outputs": [
    {
     "name": "stdout",
     "output_type": "stream",
     "text": [
      "[[  1 100   3]\n",
      " [  4   5   6]]\n",
      "...............\n",
      "[[  1 100   3]]\n",
      "[[4 5 6]]\n",
      "...............\n",
      "[[1]\n",
      " [4]]\n"
     ]
    }
   ],
   "source": [
    "## 1d array slicing\n",
    "# arr[start:end: step]\n",
    "arr1_modified = arr1[1:4]\n",
    "#print(arr1_modified)\n",
    "\n",
    "## 2d array slicing\n",
    "#arr[rowstart:rowend:rowstep,colstart:colend:colstep]\n",
    "print(arr2)\n",
    "\n",
    "print(\"...............\")\n",
    "# getting row 0\n",
    "row0 = arr2[0:1,]\n",
    "\n",
    "# getting row 1\n",
    "row1 = arr2[1:,]\n",
    "\n",
    "print(row0)\n",
    "print(row1)\n",
    "print(\"...............\")\n",
    "\n",
    "# getting a colum\n",
    "colum0 = arr2[::, 0:1]\n",
    "print(colum0)\n"
   ]
  },
  {
   "cell_type": "markdown",
   "id": "8560dedb-6de8-4c3d-b7ee-e44b58b2547e",
   "metadata": {},
   "source": [
    "### Advanced indexing and iteration"
   ]
  },
  {
   "cell_type": "code",
   "execution_count": 65,
   "id": "3056ae8b-9747-4e1f-b99e-3911f00ab6b6",
   "metadata": {},
   "outputs": [
    {
     "name": "stdout",
     "output_type": "stream",
     "text": [
      "[  1   2 500   4   5]\n",
      "[  2 600]\n",
      "[  1   2 500   4   5]\n",
      ".....................\n",
      "[10 20 30 40 50 60]\n",
      "[20 40]\n",
      ".....................\n",
      "[[  1 100   3]\n",
      " [  4   5   6]]\n",
      "[100   6]\n",
      "[100   3   4   5   6]\n",
      "[[1 0 0]\n",
      " [0 0 0]]\n"
     ]
    }
   ],
   "source": [
    "## copy in array\n",
    "print(arr1)\n",
    "arr_modified = arr1[1:3].copy()\n",
    "arr_modified[1] = 600\n",
    "print(arr_modified)\n",
    "print(arr1)\n",
    "\n",
    "print(\".....................\")\n",
    "\n",
    "## Advanced Slicing\n",
    "ls = np.array([10,20,30,40,50,60])\n",
    "print(ls)\n",
    "values = ls[[1,3]]\n",
    "print(values)\n",
    "\n",
    "## advanced slicing for 2d array\n",
    "print(\".....................\")\n",
    "print(arr2)\n",
    "print(arr2[[0,1],[1,2]])\n",
    "\n",
    "# boolean operation\n",
    "print(arr2[arr2>2])\n",
    "arr2[arr2>2] = 0\n",
    "print(arr2)"
   ]
  },
  {
   "cell_type": "code",
   "execution_count": 67,
   "id": "7d44e236-616f-40a2-97be-9809597a4ef7",
   "metadata": {},
   "outputs": [
    {
     "name": "stdout",
     "output_type": "stream",
     "text": [
      "[[ 10  20  30  40]\n",
      " [100 200 300 400]]\n",
      "10\n",
      "20\n",
      "30\n",
      "40\n",
      "100\n",
      "200\n",
      "300\n",
      "400\n"
     ]
    }
   ],
   "source": [
    "## Iteration\n",
    "arr = np.array([[10,20,30,40],[100,200,300,400]])\n",
    "print(arr)\n",
    "for i in np.nditer(arr):\n",
    "    print(i)"
   ]
  },
  {
   "cell_type": "code",
   "execution_count": 71,
   "id": "1eaa3639-2ddc-4cfa-867a-dec4a75c83d8",
   "metadata": {},
   "outputs": [
    {
     "name": "stdout",
     "output_type": "stream",
     "text": [
      "[20 50]\n"
     ]
    }
   ],
   "source": [
    "arr = np.array([[10,20,30],[40,50,60]])\n",
    "print(arr[:,1])"
   ]
  },
  {
   "cell_type": "code",
   "execution_count": null,
   "id": "88f5fb88-cf8c-40ad-85d9-45cd383e32b3",
   "metadata": {},
   "outputs": [],
   "source": []
  }
 ],
 "metadata": {
  "kernelspec": {
   "display_name": "Python 3 (ipykernel)",
   "language": "python",
   "name": "python3"
  },
  "language_info": {
   "codemirror_mode": {
    "name": "ipython",
    "version": 3
   },
   "file_extension": ".py",
   "mimetype": "text/x-python",
   "name": "python",
   "nbconvert_exporter": "python",
   "pygments_lexer": "ipython3",
   "version": "3.13.5"
  }
 },
 "nbformat": 4,
 "nbformat_minor": 5
}
