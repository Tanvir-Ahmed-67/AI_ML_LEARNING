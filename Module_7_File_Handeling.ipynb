{
 "cells": [
  {
   "cell_type": "markdown",
   "id": "6766af9c-ecb3-4175-b52b-d37793d4b932",
   "metadata": {},
   "source": [
    "### File Operation"
   ]
  },
  {
   "cell_type": "code",
   "execution_count": null,
   "id": "8b622aaa-22db-4765-a8fe-8a75daf301fe",
   "metadata": {},
   "outputs": [],
   "source": []
  }
 ],
 "metadata": {
  "kernelspec": {
   "display_name": "Python [conda env:base] *",
   "language": "python",
   "name": "conda-base-py"
  },
  "language_info": {
   "codemirror_mode": {
    "name": "ipython",
    "version": 3
   },
   "file_extension": ".py",
   "mimetype": "text/x-python",
   "name": "python",
   "nbconvert_exporter": "python",
   "pygments_lexer": "ipython3",
   "version": "3.13.5"
  }
 },
 "nbformat": 4,
 "nbformat_minor": 5
}
